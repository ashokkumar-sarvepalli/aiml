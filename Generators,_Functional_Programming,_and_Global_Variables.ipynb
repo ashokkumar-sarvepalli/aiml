{
  "nbformat": 4,
  "nbformat_minor": 0,
  "metadata": {
    "colab": {
      "provenance": []
    },
    "kernelspec": {
      "name": "python3",
      "display_name": "Python 3"
    },
    "language_info": {
      "name": "python"
    }
  },
  "cells": [
    {
      "cell_type": "markdown",
      "source": [
        "## Basic Print Example\n",
        "\n",
        "This cell demonstrates a simple print statement, outputting the string 'hello'. It's a basic example of Python's print function."
      ],
      "metadata": {
        "id": "L8A8bmx_Lzed"
      }
    },
    {
      "cell_type": "code",
      "source": [
        "print('hello')"
      ],
      "metadata": {
        "id": "MLEfJmyDLzeg",
        "outputId": "e6e02cdd-0847-4612-df9d-24779df36e53"
      },
      "outputs": [
        {
          "output_type": "stream",
          "name": "stdout",
          "text": [
            "hello\\n"
          ]
        }
      ],
      "execution_count": null
    },
    {
      "cell_type": "markdown",
      "source": [
        "## Using `map` with a Function\n",
        "\n",
        "Here, `multiplyBy2` is a function that takes an integer `x` and returns it doubled. We apply this function across a list of integers (from 1 to 9) using the `map` function. The `map` function applies a given function to each item of an iterable (like a list) and returns a list of the results."
      ],
      "metadata": {
        "id": "EigBY9uxLzeh"
      }
    },
    {
      "cell_type": "code",
      "source": [
        "def multiplyBy2(x):\n",
        "    return x * 2\n",
        "\n",
        "x = list(range(1, 10))  # Create the list\n",
        "y = list(map(multiplyBy2, x))  # Pass function, x, and value list\n",
        "y"
      ],
      "metadata": {
        "colab": {
          "base_uri": "https://localhost:8080/"
        },
        "id": "XGJ1O34xSgfE",
        "outputId": "3fa834ef-4811-4b7c-8bb5-62b5682d6b91"
      },
      "execution_count": null,
      "outputs": [
        {
          "output_type": "execute_result",
          "data": {
            "text/plain": [
              "[2, 4, 6, 8, 10, 12, 14, 16, 18]"
            ]
          },
          "metadata": {},
          "execution_count": 17
        }
      ]
    },
    {
      "cell_type": "markdown",
      "source": [
        "## Using `map` with a Lambda\n",
        "\n",
        "This cell demonstrates using the `map` function with a lambda expression. Lambda functions are small anonymous functions defined with the `lambda` keyword. Here, a lambda function is used to apply `multiplyBy2` to each element in the list `x`. This is a more compact version of the map usage shown previously."
      ],
      "metadata": {
        "id": "4-GkgdMmLzei"
      }
    },
    {
      "cell_type": "code",
      "source": [
        "def multiplyBy2(x):\n",
        "    return x * 2\n",
        "\n",
        "x = list(range(1, 10))  # Create the list\n",
        "y = list(map(lambda value: multiplyBy2(value), x))  # Pass function, x, and value list\n",
        "y"
      ],
      "metadata": {
        "colab": {
          "base_uri": "https://localhost:8080/"
        },
        "id": "O1hHd_UiP_4q",
        "outputId": "1ffbffd9-3634-4769-9f98-140936bbaa39"
      },
      "execution_count": null,
      "outputs": [
        {
          "output_type": "execute_result",
          "data": {
            "text/plain": [
              "[2, 4, 6, 8, 10, 12, 14, 16, 18]"
            ]
          },
          "metadata": {},
          "execution_count": 18
        }
      ]
    },
    {
      "cell_type": "markdown",
      "source": [
        "## Using `map` with a Lambda and Multiple Arguments\n",
        "\n",
        "This example shows how to use `map` with a lambda function that accepts more than one argument. The function `multiplyBy` multiplies two values. A lambda function is used to specify that each element of `x` should be multiplied by 10. This showcases how `map` can be used with functions that take multiple parameters."
      ],
      "metadata": {
        "id": "kSa8s9maLzei"
      }
    },
    {
      "cell_type": "code",
      "source": [
        "def multiplyBy(x, value):\n",
        "    return x * value\n",
        "\n",
        "x = list(range(1, 10))  # Create the list\n",
        "y = list(map(lambda value: multiplyBy(value, 10), x))  # Pass function, x, and value list\n",
        "y"
      ],
      "metadata": {
        "colab": {
          "base_uri": "https://localhost:8080/"
        },
        "id": "z72l3tfnSmBP",
        "outputId": "92bc4d4c-b17c-458d-88e5-a03df157bb0f"
      },
      "execution_count": null,
      "outputs": [
        {
          "output_type": "execute_result",
          "data": {
            "text/plain": [
              "[10, 20, 30, 40, 50, 60, 70, 80, 90]"
            ]
          },
          "metadata": {},
          "execution_count": 20
        }
      ]
    },
    {
      "cell_type": "markdown",
      "source": [
        "## Using Partial from `functools`\n",
        "\n",
        "The `partial` function from the `functools` module allows you to 'freeze' some portion of a function's arguments and keywords resulting in a new object. Here, `multiply_10` is a partial object, which uses `multiplyBy` but fixes the second argument to 10. This allows for a more flexible use of the `map` function."
      ],
      "metadata": {
        "id": "2fUR2LDnUAql"
      }
    },
    {
      "cell_type": "code",
      "source": [
        "from functools import partial\n",
        "def multiplyBy(x, value):\n",
        "    return x * value\n",
        "\n",
        "x = list(range(1, 10))\n",
        "multiply_10 = partial(multiplyBy, value=10)\n",
        "y = list(map(multiply_10, x))  # Pass function, x, and value list\n",
        "y"
      ],
      "metadata": {
        "colab": {
          "base_uri": "https://localhost:8080/"
        },
        "id": "kdTttpYJS5jk",
        "outputId": "28ce696b-6ada-4586-d358-445eb70d6125"
      },
      "execution_count": null,
      "outputs": [
        {
          "output_type": "execute_result",
          "data": {
            "text/plain": [
              "[10, 20, 30, 40, 50, 60, 70, 80, 90]"
            ]
          },
          "metadata": {},
          "execution_count": 21
        }
      ]
    },
    {
      "cell_type": "markdown",
      "source": [
        "## Filter Function Example\n",
        "\n",
        "This section demonstrates the use of the `filter` function. The function `is_even` checks if a number is even. Using `filter`, we apply this function to a list of integers (from 10 to 39) and extract only those that are even. This results in a new list containing only even numbers."
      ],
      "metadata": {
        "id": "-mKq8ynILzek"
      }
    },
    {
      "cell_type": "code",
      "source": [
        "def is_even(x):\n",
        "  return x % 2 == 0\n",
        "\n",
        "my_list = list(range(10, 40))\n",
        "filtered_list = list(filter(is_even, my_list))\n",
        "filtered_list"
      ],
      "metadata": {
        "colab": {
          "base_uri": "https://localhost:8080/"
        },
        "id": "HFqufsnzUDdf",
        "outputId": "b08b7442-2071-45b2-80e3-4d2b741aaa9b"
      },
      "execution_count": null,
      "outputs": [
        {
          "output_type": "execute_result",
          "data": {
            "text/plain": [
              "[10, 12, 14, 16, 18, 20, 22, 24, 26, 28, 30, 32, 34, 36, 38]"
            ]
          },
          "metadata": {},
          "execution_count": 27
        }
      ]
    },
    {
      "cell_type": "markdown",
      "source": [
        "## Using Partial with Filter\n",
        "\n",
        "This cell shows how to combine `filter` with `partial` from `functools` for a more complex scenario. The `is_divisible` function checks divisibility by a given value. We create a `partial` function `is_divisible_by_10` that checks for divisibility by 10, then use `filter` to apply this function to a list, extracting elements divisible by 10."
      ],
      "metadata": {
        "id": "uvD4-USULzel"
      }
    },
    {
      "cell_type": "code",
      "source": [
        "def is_divisible(x, value):\n",
        "  return x % value == 0\n",
        "\n",
        "my_list = list(range(10, 40))\n",
        "is_divisible_by_10 = partial(is_divisible, value=10)\n",
        "filtered_list = list(filter(is_divisible_by_10, my_list))\n",
        "filtered_list"
      ],
      "metadata": {
        "colab": {
          "base_uri": "https://localhost:8080/"
        },
        "id": "OVsdfGnSUzG_",
        "outputId": "10535375-7d57-4d15-c5f5-f8f23c829a3b"
      },
      "execution_count": null,
      "outputs": [
        {
          "output_type": "execute_result",
          "data": {
            "text/plain": [
              "[10, 20, 30]"
            ]
          },
          "metadata": {},
          "execution_count": 30
        }
      ]
    },
    {
      "cell_type": "markdown",
      "source": [
        "## Reduce Function Example\n",
        "\n",
        "The `reduce` function from the `functools` module is used to apply a function cumulatively to the items of a sequence, from left to right, so as to reduce the sequence to a single value. Here, we use `reduce` to sum all elements in a list from 1 to 50."
      ],
      "metadata": {
        "id": "OwgoaydrLzel"
      }
    },
    {
      "cell_type": "code",
      "source": [
        "from functools import reduce\n",
        "def sum_even(value, accumulator):\n",
        "  return value + accumulator\n",
        "\n",
        "my_list = list(range(1, 51))\n",
        "sum = reduce(sum_even, my_list, 0)\n",
        "sum"
      ],
      "metadata": {
        "colab": {
          "base_uri": "https://localhost:8080/"
        },
        "id": "THR_63RAWSdL",
        "outputId": "4142a81c-106e-44a1-89f3-b31e9bcfdb9c"
      },
      "execution_count": null,
      "outputs": [
        {
          "output_type": "execute_result",
          "data": {
            "text/plain": [
              "1275"
            ]
          },
          "metadata": {},
          "execution_count": 35
        }
      ]
    },
    {
      "cell_type": "markdown",
      "source": [
        "## Combining Filter and Reduce\n",
        "\n",
        "In this example, we combine `filter` and `reduce` to calculate the sum of only the even numbers in a list from 1 to 50. This showcases how powerful functional programming techniques can be when combined."
      ],
      "metadata": {
        "id": "Pxg2cCoPLzem"
      }
    },
    {
      "cell_type": "code",
      "source": [
        "my_list = list(range(1, 51))\n",
        "sum = reduce(lambda x, y: x + y, filter(lambda x: x % 2 == 0, my_list))\n",
        "sum"
      ],
      "metadata": {
        "colab": {
          "base_uri": "https://localhost:8080/"
        },
        "id": "4qBVYuxYicUP",
        "outputId": "047515f4-7763-40e3-ac36-ad8633bd8e05"
      },
      "execution_count": null,
      "outputs": [
        {
          "output_type": "execute_result",
          "data": {
            "text/plain": [
              "650"
            ]
          },
          "metadata": {},
          "execution_count": 46
        }
      ]
    },
    {
      "cell_type": "markdown",
      "source": [
        "## Understanding Generator Functions\n",
        "\n",
        "Generator functions allow the creation of iterators in a very clean way. They use the `yield` statement to yield values one at a time, suspending and resuming their state between each yield. In this example, the generator `generate_numbers` yields numbers divisible by 20."
      ],
      "metadata": {
        "id": "E4MI7HqLf6_a"
      }
    },
    {
      "cell_type": "code",
      "source": [
        "def generate_numbers():\n",
        "  for i in range(1, 40):\n",
        "    if i % 20 == 0:\n",
        "      yield i\n",
        "    print(\"I am working\")\n",
        "\n",
        "gen = generate_numbers()\n",
        "for i in gen:\n",
        "  print(i)"
      ],
      "metadata": {
        "colab": {
          "base_uri": "https://localhost:8080/"
        },
        "id": "dA7YMMjqe6xO",
        "outputId": "2d792d78-feaa-4aa0-f626-2343fdcbebaf"
      },
      "execution_count": null,
      "outputs": [
        {
          "output_type": "stream",
          "name": "stdout",
          "text": [
            "I am working\n",
            "I am working\n",
            "I am working\n",
            "I am working\n",
            "I am working\n",
            "I am working\n",
            "I am working\n",
            "I am working\n",
            "I am working\n",
            "I am working\n",
            "I am working\n",
            "I am working\n",
            "I am working\n",
            "I am working\n",
            "I am working\n",
            "I am working\n",
            "I am working\n",
            "I am working\n",
            "I am working\n",
            "20\n",
            "I am working\n",
            "I am working\n",
            "I am working\n",
            "I am working\n",
            "I am working\n",
            "I am working\n",
            "I am working\n",
            "I am working\n",
            "I am working\n",
            "I am working\n",
            "I am working\n",
            "I am working\n",
            "I am working\n",
            "I am working\n",
            "I am working\n",
            "I am working\n",
            "I am working\n",
            "I am working\n",
            "I am working\n",
            "I am working\n"
          ]
        }
      ]
    },
    {
      "cell_type": "markdown",
      "source": [
        "## Global Variables in Functions\n",
        "\n",
        "Global variables can be accessed and modified anywhere in the program. This example demonstrates modifying a global variable `x` inside a function, showcasing the use of the `global` keyword to refer to the global instance of `x`."
      ],
      "metadata": {
        "id": "BCV6iq1HLzen"
      }
    },
    {
      "cell_type": "code",
      "source": [
        "x = 20\n",
        "\n",
        "def modify():\n",
        "  global x\n",
        "  x = x + 30\n",
        "  print(x)\n",
        "\n",
        "modify()\n",
        "print(x)"
      ],
      "metadata": {
        "colab": {
          "base_uri": "https://localhost:8080/"
        },
        "id": "8CpzjlkXteuU",
        "outputId": "bfe84ab2-13ec-40e1-a9bc-779b5edc823d"
      },
      "execution_count": null,
      "outputs": [
        {
          "output_type": "stream",
          "name": "stdout",
          "text": [
            "50\n",
            "50\n"
          ]
        }
      ]
    }
  ]
}